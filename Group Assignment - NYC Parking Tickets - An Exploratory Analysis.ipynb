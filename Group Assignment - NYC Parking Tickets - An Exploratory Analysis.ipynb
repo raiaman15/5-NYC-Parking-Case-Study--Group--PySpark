{
 "cells": [
  {
   "cell_type": "markdown",
   "metadata": {},
   "source": [
    "# NYC Parking Tickets: An Exploratory Analysis"
   ]
  },
  {
   "cell_type": "markdown",
   "metadata": {},
   "source": [
    "### Objectives of the Case Study\n",
    "Primarily, this case study is meant as a deep dive into the usage of Spark. As you saw while working with Spark, its syntax behaves differently from a regular Python syntax. One of the major objectives of this case study is to gain familiarity with how analysis works in PySpark as opposed to base Python.\n",
    "\n",
    "Learning the basic idea behind using functions in PySpark can help in using other libraries like SparkR. If you are in a company where R is a primary language, you can easily pick up SparkR syntax and use Spark’s processing power.\n",
    "\n",
    "The process of running a model-building command boils down to a few lines of code. While drawing inferences from data, the most time-consuming step is preparing the data up to the point of model building. So, this case study will focus more on exploratory analysis."
   ]
  },
  {
   "cell_type": "markdown",
   "metadata": {},
   "source": [
    "In an attempt to scientifically analyse this phenomenon, the NYC Police Department has collected data for parking tickets. Of these, the data files for multiple years are publicly available on Kaggle. We will try and perform some exploratory analysis on a part of this data. Spark will allow us to analyse the full files at high speeds as opposed to taking a series of random samples that will approximate the population. For the scope of this analysis, we will analyse the parking tickets over the year 2017. "
   ]
  },
  {
   "cell_type": "markdown",
   "metadata": {},
   "source": [
    "---"
   ]
  },
  {
   "cell_type": "markdown",
   "metadata": {},
   "source": [
    "### Loading Necessary Libraries and Initializing"
   ]
  },
  {
   "cell_type": "code",
   "execution_count": 1,
   "metadata": {},
   "outputs": [],
   "source": [
    "# Importing PySpark related Libraries\n",
    "from pyspark.sql import SparkSession\n",
    "from pyspark.sql.functions import col, regexp_replace, udf, date_format\n",
    "from pyspark.sql.types import StringType, TimestampType\n",
    "\n",
    "# Importing Visualization related Libraries\n",
    "import matplotlib.pyplot as plt\n",
    "import seaborn as sns"
   ]
  },
  {
   "cell_type": "code",
   "execution_count": 2,
   "metadata": {},
   "outputs": [],
   "source": [
    "# We will work with Spark 2 and thus use Spark Session Object (and not Spark Context Object)\n",
    "\n",
    "spark = SparkSession.builder.appName(\"Parking Ticket Data Analysis\").getOrCreate()"
   ]
  },
  {
   "cell_type": "markdown",
   "metadata": {},
   "source": [
    "---"
   ]
  },
  {
   "cell_type": "markdown",
   "metadata": {},
   "source": [
    "### Loading Necessary Data"
   ]
  },
  {
   "cell_type": "code",
   "execution_count": 3,
   "metadata": {
    "scrolled": false
   },
   "outputs": [
    {
     "name": "stdout",
     "output_type": "stream",
     "text": [
      "root\n",
      " |-- Summons Number: string (nullable = true)\n",
      " |-- Plate ID: string (nullable = true)\n",
      " |-- Registration State: string (nullable = true)\n",
      " |-- Issue Date: string (nullable = true)\n",
      " |-- Violation Code: string (nullable = true)\n",
      " |-- Vehicle Body Type: string (nullable = true)\n",
      " |-- Vehicle Make: string (nullable = true)\n",
      " |-- Violation Precinct: string (nullable = true)\n",
      " |-- Issuer Precinct: string (nullable = true)\n",
      " |-- Violation Time: string (nullable = true)\n",
      "\n"
     ]
    }
   ],
   "source": [
    "# Loading the data from CSV to Spark Session.\n",
    "# Viewing the Schema of the loaded data.\n",
    "\n",
    "df = spark.read.csv('/common_folder/nyc_parking/Parking_Violations_Issued_-_Fiscal_Year_2017.csv', header=True)\n",
    "df.printSchema()"
   ]
  },
  {
   "cell_type": "code",
   "execution_count": 4,
   "metadata": {
    "scrolled": true
   },
   "outputs": [
    {
     "name": "stdout",
     "output_type": "stream",
     "text": [
      "+--------------+--------+------------------+----------+--------------+-----------------+------------+------------------+---------------+--------------+\n",
      "|Summons Number|Plate ID|Registration State|Issue Date|Violation Code|Vehicle Body Type|Vehicle Make|Violation Precinct|Issuer Precinct|Violation Time|\n",
      "+--------------+--------+------------------+----------+--------------+-----------------+------------+------------------+---------------+--------------+\n",
      "|    5092469481| GZH7067|                NY|2016-07-10|             7|             SUBN|       TOYOT|                 0|              0|         0143A|\n",
      "|    5092451658| GZH7067|                NY|2016-07-08|             7|             SUBN|       TOYOT|                 0|              0|         0400P|\n",
      "|    4006265037| FZX9232|                NY|2016-08-23|             5|             SUBN|        FORD|                 0|              0|         0233P|\n",
      "|    8478629828| 66623ME|                NY|2017-06-14|            47|             REFG|       MITSU|                14|             14|         1120A|\n",
      "|    7868300310| 37033JV|                NY|2016-11-21|            69|             DELV|       INTER|                13|             13|         0555P|\n",
      "+--------------+--------+------------------+----------+--------------+-----------------+------------+------------------+---------------+--------------+\n",
      "only showing top 5 rows\n",
      "\n"
     ]
    }
   ],
   "source": [
    "# Viewing top 5 rows of the loaded data.\n",
    "\n",
    "df.show(5)"
   ]
  },
  {
   "cell_type": "code",
   "execution_count": 5,
   "metadata": {},
   "outputs": [],
   "source": [
    "# Casting to required datatypes as per the dictionary\n",
    "# Dictionary URL: https://www.kaggle.com/new-york-city/nyc-parking-tickets/data\n",
    "\n",
    "df = df.withColumn(\"Summons_Number_2\", col(\"Summons Number\").cast(\"Long\"))\n",
    "df = df.withColumn(\"Issue_Date_2\", col(\"Issue Date\").cast(\"Date\"))\n",
    "df = df.withColumn(\"Violation_Code_2\", col(\"Violation Code\").cast(\"Int\"))\n",
    "df = df.withColumn(\"Violation_Precinct_2\", col(\"Violation Precinct\").cast(\"Int\"))\n",
    "df = df.withColumn(\"Issuer_Precinct_2\", col(\"Issuer Precinct\").cast(\"Int\"))"
   ]
  },
  {
   "cell_type": "code",
   "execution_count": 6,
   "metadata": {},
   "outputs": [
    {
     "name": "stdout",
     "output_type": "stream",
     "text": [
      "+--------------+--------+------------------+----------+--------------+-----------------+------------+------------------+---------------+--------------+\n",
      "|summons_number|plate_id|registration_state|issue_date|violation_code|vehicle_body_type|vehicle_make|violation_precinct|issuer_precinct|violation_time|\n",
      "+--------------+--------+------------------+----------+--------------+-----------------+------------+------------------+---------------+--------------+\n",
      "|    5092469481| GZH7067|                NY|2016-07-10|             7|             SUBN|       TOYOT|                 0|              0|         0143A|\n",
      "|    5092451658| GZH7067|                NY|2016-07-08|             7|             SUBN|       TOYOT|                 0|              0|         0400P|\n",
      "|    4006265037| FZX9232|                NY|2016-08-23|             5|             SUBN|        FORD|                 0|              0|         0233P|\n",
      "|    8478629828| 66623ME|                NY|2017-06-14|            47|             REFG|       MITSU|                14|             14|         1120A|\n",
      "|    7868300310| 37033JV|                NY|2016-11-21|            69|             DELV|       INTER|                13|             13|         0555P|\n",
      "+--------------+--------+------------------+----------+--------------+-----------------+------------+------------------+---------------+--------------+\n",
      "only showing top 5 rows\n",
      "\n"
     ]
    }
   ],
   "source": [
    "# We can select Data for year 2017 alone using WHERE clause in below query.\n",
    "# But as per the Live session, considering all data to be from 2017\n",
    "# Selecting columns with modified datatypes only for further analysis\n",
    "\n",
    "df.createOrReplaceTempView(\"df_complete_table\")\n",
    "df = spark.sql(\n",
    "    \"SELECT \\\n",
    "    `Summons_Number_2` as `summons_number`, \\\n",
    "    `Plate ID` as `plate_id`, \\\n",
    "    `Registration State` as `registration_state`, \\\n",
    "    `Issue_Date_2` as `issue_date`, \\\n",
    "    `Violation_Code_2` as `violation_code`, \\\n",
    "    `Vehicle Body Type` as `vehicle_body_type`, \\\n",
    "    `Vehicle Make` as `vehicle_make`, \\\n",
    "    `Violation_Precinct_2` as `violation_precinct`, \\\n",
    "    `Issuer_Precinct_2` as `issuer_precinct`, \\\n",
    "    `Violation Time` as `violation_time` \\\n",
    "    FROM df_complete_table\"\n",
    ")\n",
    "df.show(5)"
   ]
  },
  {
   "cell_type": "markdown",
   "metadata": {},
   "source": [
    "---"
   ]
  },
  {
   "cell_type": "markdown",
   "metadata": {},
   "source": [
    "### Looking into the Data"
   ]
  },
  {
   "cell_type": "code",
   "execution_count": 7,
   "metadata": {
    "scrolled": true
   },
   "outputs": [
    {
     "name": "stdout",
     "output_type": "stream",
     "text": [
      "root\n",
      " |-- summons_number: long (nullable = true)\n",
      " |-- plate_id: string (nullable = true)\n",
      " |-- registration_state: string (nullable = true)\n",
      " |-- issue_date: date (nullable = true)\n",
      " |-- violation_code: integer (nullable = true)\n",
      " |-- vehicle_body_type: string (nullable = true)\n",
      " |-- vehicle_make: string (nullable = true)\n",
      " |-- violation_precinct: integer (nullable = true)\n",
      " |-- issuer_precinct: integer (nullable = true)\n",
      " |-- violation_time: string (nullable = true)\n",
      "\n"
     ]
    }
   ],
   "source": [
    "# Viewing the modified Schema of the data.\n",
    "\n",
    "df.printSchema()"
   ]
  },
  {
   "cell_type": "code",
   "execution_count": 8,
   "metadata": {
    "scrolled": true
   },
   "outputs": [
    {
     "name": "stdout",
     "output_type": "stream",
     "text": [
      "+-------+--------------------+\n",
      "|summary|      summons_number|\n",
      "+-------+--------------------+\n",
      "|  count|            10803028|\n",
      "|   mean| 6.817447029065788E9|\n",
      "| stddev|2.3202339623282275E9|\n",
      "|    min|          1002884949|\n",
      "|    max|          8585600044|\n",
      "+-------+--------------------+\n",
      "\n"
     ]
    }
   ],
   "source": [
    "# Description of Summons Number Column\n",
    "df.describe(\"summons_number\").show()"
   ]
  },
  {
   "cell_type": "code",
   "execution_count": 9,
   "metadata": {},
   "outputs": [
    {
     "name": "stdout",
     "output_type": "stream",
     "text": [
      "+-------+--------+\n",
      "|summary|plate_id|\n",
      "+-------+--------+\n",
      "|  count|10803028|\n",
      "|   mean|Infinity|\n",
      "| stddev|     NaN|\n",
      "|    min|   #1MOM|\n",
      "|    max|       ~|\n",
      "+-------+--------+\n",
      "\n"
     ]
    }
   ],
   "source": [
    "# Description of Plate ID Column\n",
    "df.describe(\"plate_id\").show()"
   ]
  },
  {
   "cell_type": "code",
   "execution_count": 10,
   "metadata": {},
   "outputs": [
    {
     "name": "stdout",
     "output_type": "stream",
     "text": [
      "+-------+------------------+\n",
      "|summary|registration_state|\n",
      "+-------+------------------+\n",
      "|  count|          10803028|\n",
      "|   mean|              99.0|\n",
      "| stddev|               0.0|\n",
      "|    min|                99|\n",
      "|    max|                WY|\n",
      "+-------+------------------+\n",
      "\n"
     ]
    }
   ],
   "source": [
    "# Description of Registration State Column\n",
    "df.describe(\"registration_state\").show()"
   ]
  },
  {
   "cell_type": "code",
   "execution_count": 11,
   "metadata": {},
   "outputs": [
    {
     "name": "stdout",
     "output_type": "stream",
     "text": [
      "+-------+\n",
      "|summary|\n",
      "+-------+\n",
      "|  count|\n",
      "|   mean|\n",
      "| stddev|\n",
      "|    min|\n",
      "|    max|\n",
      "+-------+\n",
      "\n"
     ]
    }
   ],
   "source": [
    "# Description of Issue Date Column\n",
    "df.describe(\"issue_date\").show()"
   ]
  },
  {
   "cell_type": "code",
   "execution_count": 12,
   "metadata": {},
   "outputs": [
    {
     "name": "stdout",
     "output_type": "stream",
     "text": [
      "+-------+------------------+\n",
      "|summary|    violation_code|\n",
      "+-------+------------------+\n",
      "|  count|          10803028|\n",
      "|   mean|34.599430455979565|\n",
      "| stddev|19.359868716323483|\n",
      "|    min|                 0|\n",
      "|    max|                99|\n",
      "+-------+------------------+\n",
      "\n"
     ]
    }
   ],
   "source": [
    "# Description of Violation Code Column\n",
    "df.describe(\"violation_code\").show()"
   ]
  },
  {
   "cell_type": "code",
   "execution_count": 13,
   "metadata": {},
   "outputs": [
    {
     "name": "stdout",
     "output_type": "stream",
     "text": [
      "+-------+------------------+\n",
      "|summary| vehicle_body_type|\n",
      "+-------+------------------+\n",
      "|  count|          10803028|\n",
      "|   mean|3.9258887134586864|\n",
      "| stddev|0.5013415469252522|\n",
      "|    min|                00|\n",
      "|    max|               nan|\n",
      "+-------+------------------+\n",
      "\n"
     ]
    }
   ],
   "source": [
    "# Description of Vehicle Body Type Column\n",
    "df.describe(\"vehicle_body_type\").show()"
   ]
  },
  {
   "cell_type": "code",
   "execution_count": 14,
   "metadata": {},
   "outputs": [
    {
     "name": "stdout",
     "output_type": "stream",
     "text": [
      "+-------+-----------------+\n",
      "|summary|     vehicle_make|\n",
      "+-------+-----------------+\n",
      "|  count|         10803028|\n",
      "|   mean|6519.974025974026|\n",
      "| stddev|18091.25738914709|\n",
      "|    min|            ,FREI|\n",
      "|    max|              nan|\n",
      "+-------+-----------------+\n",
      "\n"
     ]
    }
   ],
   "source": [
    "# Description of Vehicle Make Column\n",
    "df.describe(\"vehicle_make\").show()"
   ]
  },
  {
   "cell_type": "code",
   "execution_count": 15,
   "metadata": {},
   "outputs": [
    {
     "name": "stdout",
     "output_type": "stream",
     "text": [
      "+-------+------------------+\n",
      "|summary|violation_precinct|\n",
      "+-------+------------------+\n",
      "|  count|          10803028|\n",
      "|   mean| 45.01216260848347|\n",
      "| stddev|40.552560268435805|\n",
      "|    min|                 0|\n",
      "|    max|               933|\n",
      "+-------+------------------+\n",
      "\n"
     ]
    }
   ],
   "source": [
    "# Description of Violation Precinct Column\n",
    "df.describe(\"violation_precinct\").show()"
   ]
  },
  {
   "cell_type": "code",
   "execution_count": 16,
   "metadata": {},
   "outputs": [
    {
     "name": "stdout",
     "output_type": "stream",
     "text": [
      "+-------+-----------------+\n",
      "|summary|  issuer_precinct|\n",
      "+-------+-----------------+\n",
      "|  count|         10803028|\n",
      "|   mean|46.82931211508477|\n",
      "| stddev|62.66703577269467|\n",
      "|    min|                0|\n",
      "|    max|              997|\n",
      "+-------+-----------------+\n",
      "\n"
     ]
    }
   ],
   "source": [
    "# Description of Issuer Precinct Column\n",
    "df.describe(\"issuer_precinct\").show()"
   ]
  },
  {
   "cell_type": "code",
   "execution_count": 17,
   "metadata": {},
   "outputs": [
    {
     "name": "stdout",
     "output_type": "stream",
     "text": [
      "+-------+-----------------+\n",
      "|summary|   violation_time|\n",
      "+-------+-----------------+\n",
      "|  count|         10803028|\n",
      "|   mean|909.2857142857143|\n",
      "| stddev|791.8453853409226|\n",
      "|    min|            .240P|\n",
      "|    max|              nan|\n",
      "+-------+-----------------+\n",
      "\n"
     ]
    }
   ],
   "source": [
    "# Description of Violation Time Column\n",
    "df.describe(\"violation_time\").show()"
   ]
  },
  {
   "cell_type": "markdown",
   "metadata": {},
   "source": [
    "---"
   ]
  },
  {
   "cell_type": "markdown",
   "metadata": {},
   "source": [
    "### Performing Basic Exploratory Data Analysis"
   ]
  },
  {
   "cell_type": "code",
   "execution_count": 18,
   "metadata": {},
   "outputs": [],
   "source": [
    "# Creating temporary SQL view to proceed with further Analysis.\n",
    "\n",
    "df.createOrReplaceTempView(\"df_table\")"
   ]
  },
  {
   "cell_type": "code",
   "execution_count": 19,
   "metadata": {
    "scrolled": true
   },
   "outputs": [
    {
     "data": {
      "image/png": "[encoded data removed]",
      "text/plain": [
       "<Figure size 1152x1152 with 1 Axes>"
      ]
     },
     "metadata": {},
     "output_type": "display_data"
    }
   ],
   "source": [
    "# Visualizing distribution of Tickets\n",
    "\n",
    "# Visualizing distribution of Tickets w.r.t Registration State\n",
    "distribution_of_tickets = spark.sql(\"SELECT `registration_state`, count(*) as `Tickets form State` FROM df_table GROUP BY `registration_state`\")\n",
    "plotdata = distribution_of_tickets.toPandas().set_index('registration_state').plot.barh(figsize=(16, 16))\n",
    "\n",
    "# Summary of Visualization:\n",
    "# We have maximum number of Tickets from NY and it is several times more than that of tickets coming from other states\n",
    "# We have an entry of 99 as state name, which is invalid"
   ]
  },
  {
   "cell_type": "code",
   "execution_count": 20,
   "metadata": {
    "scrolled": true
   },
   "outputs": [
    {
     "data": {
      "image/png": "[encoded data removed]",
      "text/plain": [
       "<Figure size 1152x1152 with 1 Axes>"
      ]
     },
     "metadata": {},
     "output_type": "display_data"
    }
   ],
   "source": [
    "# Visualizing distribution of Tickets\n",
    "\n",
    "# Visualizing distribution of Tickets w.r.t Issue Date\n",
    "distribution_of_tickets = spark.sql(\"SELECT `issue_date`, count(*) as `Tickets form State` FROM df_table  WHERE YEAR(`issue_date`) IN (2016,2017,2018) GROUP BY `issue_date`\")\n",
    "plotdata = distribution_of_tickets.toPandas().set_index('issue_date').plot.line(figsize=(16, 16))\n",
    "\n",
    "# Summary of Visualization:\n",
    "# The distribution of tickets across Issue Date is very random.\n",
    "# It seems like we do not have much data available for the later 6 months\n",
    "# On some days, we have very high numbers (> 40,000)\n",
    "# On some days, we have very less numbers (< 10,000)\n",
    "# On most days, we have no tickets at all (~ 0)"
   ]
  },
  {
   "cell_type": "code",
   "execution_count": 21,
   "metadata": {
    "scrolled": true
   },
   "outputs": [
    {
     "data": {
      "image/png": "[encoded data removed]",
      "text/plain": [
       "<Figure size 1152x2304 with 1 Axes>"
      ]
     },
     "metadata": {},
     "output_type": "display_data"
    }
   ],
   "source": [
    "# Visualizing distribution of Tickets\n",
    "\n",
    "# Visualizing distribution of Tickets w.r.t Violation Code\n",
    "distribution_of_tickets = spark.sql(\"SELECT `violation_code`, count(*) as `Tickets form State` FROM df_table GROUP BY `violation_code`\")\n",
    "plotdata = distribution_of_tickets.toPandas().set_index('violation_code').plot.barh(figsize=(16, 32))\n",
    "\n",
    "# Summary of Visualization:\n",
    "# The distribution of tickets across Violation Code is random. \n",
    "# We have max. number of tickets with violation code 21, followed by 36 and 38"
   ]
  },
  {
   "cell_type": "markdown",
   "metadata": {},
   "source": [
    "---"
   ]
  },
  {
   "cell_type": "markdown",
   "metadata": {},
   "source": [
    "### Cleaning Dataset for Analysis"
   ]
  },
  {
   "cell_type": "code",
   "execution_count": 22,
   "metadata": {},
   "outputs": [
    {
     "data": {
      "text/plain": [
       "10803028"
      ]
     },
     "execution_count": 22,
     "metadata": {},
     "output_type": "execute_result"
    }
   ],
   "source": [
    "# Counting the initial number of rows from uncleaned data\n",
    "\n",
    "df.count()"
   ]
  },
  {
   "cell_type": "code",
   "execution_count": 23,
   "metadata": {},
   "outputs": [],
   "source": [
    "# Further Cleaning Dataset based on observations from EDA and provided data.\n",
    "# We are using PySpark Dataframes for the data cleaning purpose for simplicity.\n",
    "\n",
    "# Handling Duplicate Values\n",
    "df = df.dropDuplicates()\n",
    "\n",
    "# Handling Null Values\n",
    "# If null values are less than 30%, then dropping them\n",
    "df_drop = df.na.drop()\n",
    "# print((df_drop.count()/df.count())*100)\n",
    "if (df_drop.count()/df.count())*100<30:\n",
    "    df = df_drop\n",
    "\n",
    "# Replacing the State '99' with the State having the maximum entries, i.e. 'NY'\n",
    "df = df.withColumn('registration_state', regexp_replace('registration_state', '99', 'NY'))\n",
    "\n",
    "# Re-registering the cleaned Dataset as SQL view for further Analysis\n",
    "df.createOrReplaceTempView(\"df_table\")"
   ]
  },
  {
   "cell_type": "code",
   "execution_count": 24,
   "metadata": {},
   "outputs": [
    {
     "data": {
      "text/plain": [
       "10803028"
      ]
     },
     "execution_count": 24,
     "metadata": {},
     "output_type": "execute_result"
    }
   ],
   "source": [
    "# Counting the final number of rows from cleaned data\n",
    "\n",
    "df.count()"
   ]
  },
  {
   "cell_type": "markdown",
   "metadata": {},
   "source": [
    "**NOTE: We have not deleted any row, and we have cleaned the Data for NA values but there are no directly identifiable NA values. <br/>\n",
    "Python would fail to recognize the strings having values as \"NULL\" or \"NA\". <br/>\n",
    "This would be considered as non-NA value which is being considered fine for this analysis.**\n",
    "\n",
    "If needed, we can clean those values in following ways:\n",
    "* Deleting the rows that contains string \"NULL\", \"NA\" or similar in any of the columns (using filter/where)\n",
    "* Imputing the rows that contains string \"NULL\", \"NA\" or similar in any of the columns (using regexp_replace)"
   ]
  },
  {
   "cell_type": "markdown",
   "metadata": {},
   "source": [
    "---"
   ]
  },
  {
   "cell_type": "markdown",
   "metadata": {},
   "source": [
    "### Solving Analysis Questions (Examine the data)"
   ]
  },
  {
   "cell_type": "code",
   "execution_count": 25,
   "metadata": {},
   "outputs": [
    {
     "name": "stdout",
     "output_type": "stream",
     "text": [
      "+------------------------------+\n",
      "|number of tickets for the year|\n",
      "+------------------------------+\n",
      "|                      10803028|\n",
      "+------------------------------+\n",
      "\n"
     ]
    }
   ],
   "source": [
    "# Examine the data\n",
    "# Q1. Find the total number of tickets for the year.\n",
    "\n",
    "# Solution:\n",
    "# 2. We need to retrieve the count of rows\n",
    "\n",
    "result = spark.sql(\"SELECT count(*) as `number of tickets for the year` FROM df_table\")\n",
    "result.show()"
   ]
  },
  {
   "cell_type": "code",
   "execution_count": 26,
   "metadata": {
    "scrolled": true
   },
   "outputs": [
    {
     "name": "stdout",
     "output_type": "stream",
     "text": [
      "+----------------------------------+\n",
      "|count(DISTINCT registration_state)|\n",
      "+----------------------------------+\n",
      "|                                66|\n",
      "+----------------------------------+\n",
      "\n"
     ]
    }
   ],
   "source": [
    "# Examine the data\n",
    "# Q2. Find out the number of unique states from where the cars that got parking tickets came.\n",
    "\n",
    "# Solution:\n",
    "# 1. We need to count the DISTINCT registration_state from the table\n",
    "\n",
    "result = spark.sql(\"SELECT  count(DISTINCT `registration_state`) FROM df_table\")\n",
    "result.show()"
   ]
  },
  {
   "cell_type": "markdown",
   "metadata": {},
   "source": [
    "---"
   ]
  },
  {
   "cell_type": "markdown",
   "metadata": {},
   "source": [
    "### Solving Analysis Questions (Aggregation tasks)"
   ]
  },
  {
   "cell_type": "markdown",
   "metadata": {},
   "source": [
    "### Question 1:"
   ]
  },
  {
   "cell_type": "code",
   "execution_count": 27,
   "metadata": {
    "scrolled": true
   },
   "outputs": [
    {
     "name": "stdout",
     "output_type": "stream",
     "text": [
      "+--------------+----------------------------------------+\n",
      "|violation_code|number of tickets for the violation code|\n",
      "+--------------+----------------------------------------+\n",
      "|            21|                                 1528588|\n",
      "|            36|                                 1400614|\n",
      "|            38|                                 1062304|\n",
      "|            14|                                  893498|\n",
      "|            20|                                  618593|\n",
      "+--------------+----------------------------------------+\n",
      "\n"
     ]
    }
   ],
   "source": [
    "# Aggregation tasks\n",
    "# Q1. How often does each violation code occur? Display the frequency of the top five violation codes.\n",
    "\n",
    "# Solution:\n",
    "# 1. We will count the number of tickets per violation code using GROUP BY\n",
    "# 2. We will sort the result on basis of count of number of tickers per violation code using ORDER BY DESC\n",
    "# 3. We will select the top 5 rows only by using LIMIT\n",
    "\n",
    "result = spark.sql(\n",
    "    \"SELECT `violation_code`, count(*) as `number of tickets for the violation code` \\\n",
    "    FROM df_table \\\n",
    "    GROUP BY `violation_code` \\\n",
    "    ORDER BY `number of tickets for the violation code` DESC \\\n",
    "    LIMIT 5\")\n",
    "result.show()"
   ]
  },
  {
   "cell_type": "markdown",
   "metadata": {},
   "source": [
    "---"
   ]
  },
  {
   "cell_type": "markdown",
   "metadata": {},
   "source": [
    "### Question 2:"
   ]
  },
  {
   "cell_type": "code",
   "execution_count": 28,
   "metadata": {
    "scrolled": true
   },
   "outputs": [
    {
     "name": "stdout",
     "output_type": "stream",
     "text": [
      "+-----------------+-------------------------------------------+\n",
      "|vehicle_body_type|number of tickets for the vehicle body type|\n",
      "+-----------------+-------------------------------------------+\n",
      "|             SUBN|                                    3719802|\n",
      "|             4DSD|                                    3082020|\n",
      "|              VAN|                                    1411970|\n",
      "|             DELV|                                     687330|\n",
      "|              SDN|                                     438191|\n",
      "+-----------------+-------------------------------------------+\n",
      "\n",
      "+------------+--------------------------------------+\n",
      "|vehicle_make|number of tickets for the vehicle make|\n",
      "+------------+--------------------------------------+\n",
      "|        FORD|                               1280958|\n",
      "|       TOYOT|                               1211451|\n",
      "|       HONDA|                               1079238|\n",
      "|       NISSA|                                918590|\n",
      "|       CHEVR|                                714655|\n",
      "+------------+--------------------------------------+\n",
      "\n"
     ]
    }
   ],
   "source": [
    "# Aggregation tasks\n",
    "# Q2. How often does each 'vehicle body type' get a parking ticket? How about the 'vehicle make'? (Hint: Find the top 5 for both.)\n",
    "\n",
    "# Solution:\n",
    "# 1.1 We will count the number of tickets per 'vehicle body type' using GROUP BY\n",
    "# 1.2 We will sort the result on basis of count of number of tickers per vehicle body type using ORDER BY DESC\n",
    "# 1.3 We will select the top 5 rows only by using LIMIT\n",
    "\n",
    "# 2.1 We will count the number of tickets per 'vehicle make' using GROUP BY\n",
    "# 2.2 We will sort the result on basis of count of number of tickers per vehicle make using ORDER BY DESC\n",
    "# 2.3 We will select the top 5 rows only by using LIMIT\n",
    "\n",
    "# 1:\n",
    "result = spark.sql(\n",
    "    \"SELECT `vehicle_body_type`, count(*) as `number of tickets for the vehicle body type` \\\n",
    "    FROM df_table \\\n",
    "    GROUP BY `vehicle_body_type` \\\n",
    "    ORDER BY `number of tickets for the vehicle body type` DESC \\\n",
    "    LIMIT 5\")\n",
    "result.show()\n",
    "\n",
    "# 2:\n",
    "result = spark.sql(\n",
    "    \"SELECT `vehicle_make`, count(*) as `number of tickets for the vehicle make` \\\n",
    "    FROM df_table \\\n",
    "    GROUP BY `vehicle_make` \\\n",
    "    ORDER BY `number of tickets for the vehicle make` DESC \\\n",
    "    LIMIT 5\")\n",
    "result.show()"
   ]
  },
  {
   "cell_type": "markdown",
   "metadata": {},
   "source": [
    "---"
   ]
  },
  {
   "cell_type": "markdown",
   "metadata": {},
   "source": [
    "### Question 3:"
   ]
  },
  {
   "cell_type": "code",
   "execution_count": 29,
   "metadata": {},
   "outputs": [
    {
     "name": "stdout",
     "output_type": "stream",
     "text": [
      "+------------------+--------------------------------------------+\n",
      "|violation_precinct|number of tickets for the violation precinct|\n",
      "+------------------+--------------------------------------------+\n",
      "|                 0|                                     2072400|\n",
      "|                19|                                      535671|\n",
      "|                14|                                      352450|\n",
      "|                 1|                                      331810|\n",
      "|                18|                                      306920|\n",
      "|               114|                                      296514|\n",
      "+------------------+--------------------------------------------+\n",
      "\n",
      "+---------------+-----------------------------------------+\n",
      "|issuer_precinct|number of tickets for the issuer precinct|\n",
      "+---------------+-----------------------------------------+\n",
      "|              0|                                  2388479|\n",
      "|             19|                                   521513|\n",
      "|             14|                                   344977|\n",
      "|              1|                                   321170|\n",
      "|             18|                                   296553|\n",
      "|            114|                                   289950|\n",
      "+---------------+-----------------------------------------+\n",
      "\n"
     ]
    }
   ],
   "source": [
    "# Aggregation tasks\n",
    "# Q3. A precinct is a police station that has a certain zone of the city under its command. \n",
    "# Find the (5 highest) frequencies of tickets for each of the following:\n",
    "# 'Violation Precinct' (This is the precinct of the zone where the violation occurred). \n",
    "#     Using this, can you draw any insights for parking violations in any specific areas of the city?\n",
    "# 'Issuer Precinct' (This is the precinct that issued the ticket.)\n",
    "# Here, you would have noticed that the dataframe has the'Violating Precinct' or 'Issuing Precinct' as '0'. These are erroneous entries. Hence, you need to provide the records for five correct precincts. (Hint: Print the top six entries after sorting.)\n",
    "\n",
    "# Solution:\n",
    "# 1.1 We will count the number of tickets per 'Violation Precinct' using GROUP BY\n",
    "# 1.2 We will sort the result on basis of count of number of tickers per Violation Precinct using ORDER BY DESC\n",
    "# 1.3 We will select the top 6 rows only by using LIMIT, not 5 since we ignore the erroneous entries ('0')\n",
    "\n",
    "# 2.1 We will count the number of tickets per 'Issuer Precinct' using GROUP BY\n",
    "# 2.2 We will sort the result on basis of count of number of tickers per Issuer Precinct using ORDER BY DESC\n",
    "# 2.3 We will select the top 6 rows only by using LIMIT, not 5 since we ignore the erroneous entries ('0')\n",
    "\n",
    "# 1:\n",
    "result = spark.sql(\n",
    "    \"SELECT `violation_precinct`, count(*) as `number of tickets for the violation precinct` \\\n",
    "    FROM df_table \\\n",
    "    GROUP BY `violation_precinct` \\\n",
    "    ORDER BY `number of tickets for the violation precinct` DESC \\\n",
    "    LIMIT 6\")\n",
    "result.show()\n",
    "\n",
    "# 2:\n",
    "result = spark.sql(\n",
    "    \"SELECT `issuer_precinct`, count(*) as `number of tickets for the issuer precinct` \\\n",
    "    FROM df_table \\\n",
    "    GROUP BY `issuer_precinct` \\\n",
    "    ORDER BY `number of tickets for the issuer precinct` DESC \\\n",
    "    LIMIT 6\")\n",
    "result.show()"
   ]
  },
  {
   "cell_type": "markdown",
   "metadata": {},
   "source": [
    "**Important Observations:**\n",
    "\n",
    "\n",
    "* We observe that precinct 19, 14, 1, 18 and 114 have been common precinct in both the queries\n",
    "\n",
    "\n",
    "* We have very high number of violations in the precinct 19 (almost double of 114)"
   ]
  },
  {
   "cell_type": "markdown",
   "metadata": {},
   "source": [
    "---"
   ]
  },
  {
   "cell_type": "markdown",
   "metadata": {},
   "source": [
    "### Question 4:"
   ]
  },
  {
   "cell_type": "code",
   "execution_count": 30,
   "metadata": {},
   "outputs": [
    {
     "name": "stdout",
     "output_type": "stream",
     "text": [
      "+--------------+-----------------------------------------------------------------+\n",
      "|violation_code|number of tickets for the issuer precinct = 19 for violation code|\n",
      "+--------------+-----------------------------------------------------------------+\n",
      "|            46|                                                            86390|\n",
      "|            37|                                                            72437|\n",
      "|            38|                                                            72344|\n",
      "|            14|                                                            57563|\n",
      "|            21|                                                            54700|\n",
      "|            16|                                                            31353|\n",
      "|            20|                                                            27352|\n",
      "|            40|                                                            21513|\n",
      "|            71|                                                            15107|\n",
      "|            19|                                                            12896|\n",
      "+--------------+-----------------------------------------------------------------+\n",
      "\n",
      "+--------------+-----------------------------------------------------------------+\n",
      "|violation_code|number of tickets for the issuer precinct = 14 for violation code|\n",
      "+--------------+-----------------------------------------------------------------+\n",
      "|            14|                                                            73837|\n",
      "|            69|                                                            58026|\n",
      "|            31|                                                            39857|\n",
      "|            47|                                                            30540|\n",
      "|            42|                                                            20663|\n",
      "|            46|                                                            13435|\n",
      "|            84|                                                            11111|\n",
      "|            19|                                                            11062|\n",
      "|            82|                                                             8853|\n",
      "|            17|                                                             6160|\n",
      "+--------------+-----------------------------------------------------------------+\n",
      "\n",
      "+--------------+----------------------------------------------------------------+\n",
      "|violation_code|number of tickets for the issuer precinct = 1 for violation code|\n",
      "+--------------+----------------------------------------------------------------+\n",
      "|            14|                                                           73522|\n",
      "|            16|                                                           38937|\n",
      "|            20|                                                           27841|\n",
      "|            46|                                                           22534|\n",
      "|            38|                                                           16989|\n",
      "|            17|                                                           13811|\n",
      "|            37|                                                           13513|\n",
      "|            69|                                                           11165|\n",
      "|            31|                                                           11047|\n",
      "|            19|                                                           10487|\n",
      "+--------------+----------------------------------------------------------------+\n",
      "\n"
     ]
    }
   ],
   "source": [
    "# Aggregation tasks\n",
    "# Q4. Find the violation code frequencies for three precincts that have issued the most number of tickets. \n",
    "# Do these precinct zones have an exceptionally high frequency of certain violation codes? \n",
    "# Are these codes common across precincts? \n",
    "# (Hint: In the SQL view, use the 'where' attribute to filter among three precincts.)\n",
    "\n",
    "# Solution:\n",
    "# 1. We will count the number of tickets per 'Violation Code' for given `issuer precinct` using GROUP BY \n",
    "# 2. We will sort the result on basis of count of number of tickers for the issuer precinct per Violation Code using ORDER BY DESC\n",
    "# 3. We will select the top 5 rows by using LIMIT to observe the most\n",
    "\n",
    "# For precinct 19\n",
    "result = spark.sql(\n",
    "    \"SELECT `violation_code`, count(*) as `number of tickets for the issuer precinct = 19 for violation code` \\\n",
    "    FROM df_table \\\n",
    "    WHERE `issuer_precinct`=19 \\\n",
    "    GROUP BY `violation_code` \\\n",
    "    ORDER BY `number of tickets for the issuer precinct = 19 for violation code` DESC \\\n",
    "    LIMIT 10\")\n",
    "result.show()\n",
    "\n",
    "# For precinct 14\n",
    "result = spark.sql(\n",
    "    \"SELECT `violation_code`, count(*) as `number of tickets for the issuer precinct = 14 for violation code` \\\n",
    "    FROM df_table \\\n",
    "    WHERE `issuer_precinct`=14 \\\n",
    "    GROUP BY `violation_code` \\\n",
    "    ORDER BY `number of tickets for the issuer precinct = 14 for violation code` DESC \\\n",
    "    LIMIT 10\")\n",
    "result.show()\n",
    "\n",
    "# For precinct 1\n",
    "result = spark.sql(\n",
    "    \"SELECT `violation_code`, count(*) as `number of tickets for the issuer precinct = 1 for violation code` \\\n",
    "    FROM df_table \\\n",
    "    WHERE `issuer_precinct`=1 \\\n",
    "    GROUP BY `violation_code` \\\n",
    "    ORDER BY `number of tickets for the issuer precinct = 1 for violation code` DESC \\\n",
    "    LIMIT 10\")\n",
    "result.show()"
   ]
  },
  {
   "cell_type": "markdown",
   "metadata": {},
   "source": [
    "**Important Observations:**\n",
    "\n",
    "\n",
    "* We do have Violation codes with higher overall frequency like Violation Code 14, 46, 38 etc.\n",
    "\n",
    "\n",
    "* For issuer precinct = 19, \n",
    "    * Most common violation code is 46 (double parking)\n",
    "    * Other frequent violation codes are 37 and 38 (Parking Meter)\n",
    "    \n",
    "    \n",
    "* For issuer precinct = 14, \n",
    "    * Most common violation code is 14 (General No Standing)\n",
    "    * Next frequent violation code is 69 (Failing to show a parking meter receipt, commercial meter zone)\n",
    "    * Next frequent violation code is 31 (Standing of a non-commercial vehicle in a commercial metered zone)\n",
    "    \n",
    "    \n",
    "* For issuer precinct = 1, \n",
    "    * Most common violation code is 14 (General No Standing)\n",
    "    * Next frequent violation code is 16 (Truck Loading/Unloading)\n",
    "    * Next frequent violation code is 20 (General No Parking)\n",
    "    \n",
    "    \n",
    "* Violation Code 14 (General No Standing) is common across all the three precincts\n",
    "\n",
    "\n",
    "* Violation Code 46 (double parking) is also common in two of three precincts\n",
    "\n",
    "\n",
    "* Violation Code 38 (Failing to show a receipt or tag in the windshield) is also common in two of three precincts"
   ]
  },
  {
   "cell_type": "markdown",
   "metadata": {},
   "source": [
    "---"
   ]
  },
  {
   "cell_type": "markdown",
   "metadata": {},
   "source": [
    "### Question 5:"
   ]
  },
  {
   "cell_type": "code",
   "execution_count": 31,
   "metadata": {},
   "outputs": [
    {
     "name": "stdout",
     "output_type": "stream",
     "text": [
      "There are 0 null values in the Dataframe\n"
     ]
    }
   ],
   "source": [
    "# Aggregation tasks\n",
    "# Q5. Find out the properties of parking violations across different times of the day:\n",
    "# Find a way to deal with missing values, if any.\n",
    "# (Hint: Check for the null values using 'isNull' under the SQL. Also, to remove the null values, check the 'dropna' command in the API documentation.)\n",
    "\n",
    "# The Violation Time field is specified in a strange format. Find a way to make this a time attribute that you can use to divide into groups.\n",
    "\n",
    "# Divide 24 hours into six equal discrete bins of time. Choose the intervals as you see fit. For each of these groups, find the three most commonly occurring violations.\n",
    "# (Hint: Use the CASE-WHEN in SQL view to segregate into bins. To find the most commonly occurring violations, you can use an approach similar to the one mentioned in the hint for question 4.)\n",
    "\n",
    "# Now, try another direction. For the three most commonly occurring violation codes, find the most common time of the day (in terms of the bins from the previous part).\n",
    "\n",
    "\n",
    "# Solution:\n",
    "# 1. We will check for the null values using 'isNull' under the SQL. \n",
    "# (Since we have already used df.na.drop() command in our Data Cleaning steps, it would not have any impact now)\n",
    "# 2. We will use string manipulation to add a new column with Violation Time in suitable format\n",
    "# 3. We will divide the time in 6 equal bins, thus 4 hours each (0:00-3:59, 4:00-7:59, 8:00-11:59, 12:00-15:59, 16:00-19:59, 20:00-23:59)\n",
    "# 4. Programmatically we will implement it in SQL using appropriate CASE-WHEN statements\n",
    "# 5. We will count the number of tickets per 'Violation Code' for given time of day (bin using CASE-WHEN) and then using GROUP BY for 'Violation Code'\n",
    "# 6. Now in another direction, find the most common time of the day for three most commonly occurring violation codes\n",
    "\n",
    "# Q5 Part 1:\n",
    "count_of_na = df.where(\n",
    "    col(\"summons_number\").isNull() | \\\n",
    "    col(\"plate_id\").isNull() | \\\n",
    "    col(\"registration_state\").isNull() | \\\n",
    "    col(\"issue_date\").isNull() | \\\n",
    "    col(\"violation_code\").isNull() | \\\n",
    "    col(\"vehicle_body_type\").isNull() | \\\n",
    "    col(\"vehicle_make\").isNull() | \\\n",
    "    col(\"violation_precinct\").isNull() | \\\n",
    "    col(\"issuer_precinct\").isNull() | \\\n",
    "    col(\"violation_time\").isNull()\n",
    ").count()\n",
    "\n",
    "print(f'There are {count_of_na} null values in the Dataframe')"
   ]
  },
  {
   "cell_type": "code",
   "execution_count": 32,
   "metadata": {},
   "outputs": [
    {
     "name": "stdout",
     "output_type": "stream",
     "text": [
      "+--------------+--------+\n",
      "|violation_time|criteria|\n",
      "+--------------+--------+\n",
      "|         8732P|   false|\n",
      "|         073+A|   false|\n",
      "|           nan|   false|\n",
      "|         5200P|   false|\n",
      "|           nan|   false|\n",
      "|         093+A|   false|\n",
      "|           nan|   false|\n",
      "|           nan|   false|\n",
      "|          0245|   false|\n",
      "|         5959P|   false|\n",
      "|         .933A|   false|\n",
      "|         094/P|   false|\n",
      "|         10.4A|   false|\n",
      "|           nan|   false|\n",
      "|           nan|   false|\n",
      "|         5810P|   false|\n",
      "|           nan|   false|\n",
      "|         5750P|   false|\n",
      "|         7824P|   false|\n",
      "|         01.5P|   false|\n",
      "+--------------+--------+\n",
      "only showing top 20 rows\n",
      "\n"
     ]
    },
    {
     "data": {
      "text/plain": [
       "242"
      ]
     },
     "execution_count": 32,
     "metadata": {},
     "output_type": "execute_result"
    }
   ],
   "source": [
    "# Q5 Part 2:\n",
    "# Identifying all non standard rows in which the HHMM(A/P) standard is not being followed and getting count.\n",
    "df.select(\"violation_time\", col(\"violation_time\").rlike(\"^[01][0-9]{3}[AP]$\").alias(\"criteria\")).where(col(\"criteria\")==\"false\").show()\n",
    "df.select(\"violation_time\", col(\"violation_time\").rlike(\"^[01][0-9]{3}[AP]$\").alias(\"criteria\")).where(col(\"criteria\")==\"false\").count()"
   ]
  },
  {
   "cell_type": "code",
   "execution_count": 33,
   "metadata": {},
   "outputs": [
    {
     "name": "stdout",
     "output_type": "stream",
     "text": [
      "+--------------+--------+\n",
      "|violation_time|criteria|\n",
      "+--------------+--------+\n",
      "+--------------+--------+\n",
      "\n",
      "Initially 0000A count:  1182\n",
      "Finally 0000A count:  1424\n"
     ]
    }
   ],
   "source": [
    "# Q5 Part 2:\n",
    "# Since the count of such values is very less, we can either drop or impute them.\n",
    "# We will go ahead with imputation since other columns of these rows may convey significant information.\n",
    "new_df = df.withColumn('violation_time', regexp_replace('violation_time', '^.*[^0-9AP].*$', '0000A'))\n",
    "new_df = new_df.withColumn('violation_time', regexp_replace('violation_time', '^.*[^AP]$', '0000A'))\n",
    "new_df = new_df.withColumn('violation_time', regexp_replace('violation_time', '^[^01].*$', '0000A'))\n",
    "new_df = new_df.withColumn('violation_time', regexp_replace('violation_time', '^[0-9AP]{1,4}$', '0000A'))\n",
    "\n",
    "# Identifying all non standard rows in which the HHMM(A/P) standard is not being followed and getting count.\n",
    "new_df.select(\"violation_time\", col(\"violation_time\").rlike(\"^[01][0-9]{3}[AP]$\").alias(\"criteria\")).where(col(\"criteria\")==\"false\").show()\n",
    "print(\"Initially 0000A count: \",df.select(\"violation_time\").where(col(\"violation_time\")==\"0000A\").count())\n",
    "print(\"Finally 0000A count: \", new_df.select(\"violation_time\").where(col(\"violation_time\")==\"0000A\").count())"
   ]
  },
  {
   "cell_type": "code",
   "execution_count": 34,
   "metadata": {
    "scrolled": false
   },
   "outputs": [
    {
     "name": "stdout",
     "output_type": "stream",
     "text": [
      "root\n",
      " |-- summons_number: long (nullable = true)\n",
      " |-- plate_id: string (nullable = true)\n",
      " |-- registration_state: string (nullable = true)\n",
      " |-- issue_date: date (nullable = true)\n",
      " |-- violation_code: integer (nullable = true)\n",
      " |-- vehicle_body_type: string (nullable = true)\n",
      " |-- vehicle_make: string (nullable = true)\n",
      " |-- violation_precinct: integer (nullable = true)\n",
      " |-- issuer_precinct: integer (nullable = true)\n",
      " |-- violation_time: string (nullable = true)\n",
      " |-- violation_time_new: string (nullable = true)\n",
      " |-- violation_time_new_formatted: string (nullable = true)\n",
      "\n"
     ]
    }
   ],
   "source": [
    "# Q5 Part 2:\n",
    "# Using UDF to perform the necessary string manipulation to convert violation_time to 24 hour time format\n",
    "\n",
    "# Convert to 24 Hour Format for easy binning\n",
    "# Also handling many kinds of faulty entries like 13:00 AM or 13:00 PM // since given time must be in 12 hour format\n",
    "maketime_udf_str_1 = udf(lambda x: x[0:2]+':'+x[2:4]+':00' if x[-1]==\"A\" or int(x[0:2]) in range(13,25) else str(int(x[0:2])+12)+':'+x[2:4]+':00', StringType())\n",
    "# Make hour 24 as 00 for later conversion\n",
    "maketime_udf_str_2 = udf(lambda x: '00'+x[2:] if x[0:2]==\"24\" else x, StringType())\n",
    "new_df = new_df.withColumn('violation_time_new', maketime_udf_str_1('violation_time'))\n",
    "new_df = new_df.withColumn('violation_time_new', maketime_udf_str_2('violation_time_new'))\n",
    "new_df = new_df.withColumn('violation_time_new_formatted', date_format('violation_time_new', 'H:m:s'))\n",
    "\n",
    "new_df.printSchema()"
   ]
  },
  {
   "cell_type": "code",
   "execution_count": 35,
   "metadata": {},
   "outputs": [
    {
     "name": "stdout",
     "output_type": "stream",
     "text": [
      "+--------------+------------------+----------------------------+\n",
      "|violation_time|violation_time_new|violation_time_new_formatted|\n",
      "+--------------+------------------+----------------------------+\n",
      "|         1243P|          00:43:00|                      0:43:0|\n",
      "|         0820P|          20:20:00|                     20:20:0|\n",
      "|         1148A|          11:48:00|                     11:48:0|\n",
      "|         0921A|          09:21:00|                      9:21:0|\n",
      "|         1031A|          10:31:00|                     10:31:0|\n",
      "+--------------+------------------+----------------------------+\n",
      "only showing top 5 rows\n",
      "\n"
     ]
    }
   ],
   "source": [
    "# Re-registering the cleaned Dataset as SQL view for further Analysis\n",
    "new_df.createOrReplaceTempView(\"df_table_new\")\n",
    "\n",
    "result = spark.sql('SELECT `violation_time`, `violation_time_new`, `violation_time_new_formatted` FROM df_table_new')\n",
    "result.show(5)"
   ]
  },
  {
   "cell_type": "code",
   "execution_count": 36,
   "metadata": {},
   "outputs": [],
   "source": [
    "# Q5 Part 3 & 4:\n",
    "result = spark.sql(\n",
    "    'SELECT `violation_code`, count(*) as `number of tickets for the time bin for violation code`, \\\n",
    "    CASE \\\n",
    "    WHEN HOUR(`violation_time_new_formatted`) IN (\"0\",\"1\",\"2\",\"3\") THEN \"00:00 - 03:59\" \\\n",
    "    WHEN HOUR(`violation_time_new_formatted`) IN (\"4\",\"5\",\"6\",\"7\") THEN \"04:00 - 07:59\" \\\n",
    "    WHEN HOUR(`violation_time_new_formatted`) IN (\"8\",\"9\",\"10\",\"11\") THEN \"08:00 - 11:59\" \\\n",
    "    WHEN HOUR(`violation_time_new_formatted`) IN (\"12\",\"13\",\"14\",\"15\") THEN \"12:00 - 15:59\" \\\n",
    "    WHEN HOUR(`violation_time_new_formatted`) IN (\"16\",\"17\",\"18\",\"19\") THEN \"16:00 - 19:59\" \\\n",
    "    WHEN HOUR(`violation_time_new_formatted`) IN (\"20\",\"21\",\"22\",\"23\") THEN \"20:00 - 23:59\" \\\n",
    "    END AS `violation_time_bin` \\\n",
    "    FROM df_table_new \\\n",
    "    GROUP BY `violation_time_bin`,`violation_code`')\n",
    "result.count()\n",
    "\n",
    "# Registering the result Dataset as a separate SQL view for further Analysis since there are many rows\n",
    "result.createOrReplaceTempView(\"temp_view\")"
   ]
  },
  {
   "cell_type": "code",
   "execution_count": 37,
   "metadata": {},
   "outputs": [
    {
     "name": "stdout",
     "output_type": "stream",
     "text": [
      "violation_time_bin=\"00:00 - 03:59\"\n",
      "+--------------+-----------------------------------------------------+\n",
      "|violation_code|number of tickets for the time bin for violation code|\n",
      "+--------------+-----------------------------------------------------+\n",
      "|            21|                                               216890|\n",
      "|            36|                                               211434|\n",
      "|            38|                                               106871|\n",
      "+--------------+-----------------------------------------------------+\n",
      "\n",
      "violation_time_bin=\"04:00 - 07:59\"\n",
      "+--------------+-----------------------------------------------------+\n",
      "|violation_code|number of tickets for the time bin for violation code|\n",
      "+--------------+-----------------------------------------------------+\n",
      "|            14|                                               141275|\n",
      "|            21|                                               119466|\n",
      "|            40|                                               112186|\n",
      "+--------------+-----------------------------------------------------+\n",
      "\n",
      "violation_time_bin=\"08:00 - 11:59\"\n",
      "+--------------+-----------------------------------------------------+\n",
      "|violation_code|number of tickets for the time bin for violation code|\n",
      "+--------------+-----------------------------------------------------+\n",
      "|            21|                                              1182676|\n",
      "|            36|                                               751422|\n",
      "|            38|                                               346518|\n",
      "+--------------+-----------------------------------------------------+\n",
      "\n",
      "violation_time_bin=\"12:00 - 15:59\"\n",
      "+--------------+-----------------------------------------------------+\n",
      "|violation_code|number of tickets for the time bin for violation code|\n",
      "+--------------+-----------------------------------------------------+\n",
      "|            36|                                               376961|\n",
      "|            38|                                               356354|\n",
      "|            37|                                               265869|\n",
      "+--------------+-----------------------------------------------------+\n",
      "\n",
      "violation_time_bin=\"16:00 - 19:59\"\n",
      "+--------------+-----------------------------------------------------+\n",
      "|violation_code|number of tickets for the time bin for violation code|\n",
      "+--------------+-----------------------------------------------------+\n",
      "|            38|                                               203232|\n",
      "|            37|                                               145784|\n",
      "|            14|                                               144748|\n",
      "+--------------+-----------------------------------------------------+\n",
      "\n",
      "violation_time_bin=\"20:00 - 23:59\"\n",
      "+--------------+-----------------------------------------------------+\n",
      "|violation_code|number of tickets for the time bin for violation code|\n",
      "+--------------+-----------------------------------------------------+\n",
      "|             7|                                                65593|\n",
      "|            38|                                                47029|\n",
      "|            14|                                                44778|\n",
      "+--------------+-----------------------------------------------------+\n",
      "\n"
     ]
    }
   ],
   "source": [
    "# Q5 Part 5:\n",
    "print('violation_time_bin=\"00:00 - 03:59\"')\n",
    "spark.sql(\n",
    "    'SELECT `violation_code`,  `number of tickets for the time bin for violation code`\\\n",
    "    FROM temp_view \\\n",
    "    WHERE violation_time_bin=\"00:00 - 03:59\" \\\n",
    "    ORDER BY `number of tickets for the time bin for violation code` DESC \\\n",
    "    LIMIT 3').show()\n",
    "\n",
    "print('violation_time_bin=\"04:00 - 07:59\"')\n",
    "spark.sql(\n",
    "    'SELECT `violation_code`,  `number of tickets for the time bin for violation code`\\\n",
    "    FROM temp_view \\\n",
    "    WHERE violation_time_bin=\"04:00 - 07:59\" \\\n",
    "    ORDER BY `number of tickets for the time bin for violation code` DESC \\\n",
    "    LIMIT 3').show()\n",
    "\n",
    "print('violation_time_bin=\"08:00 - 11:59\"')\n",
    "spark.sql(\n",
    "    'SELECT `violation_code`,  `number of tickets for the time bin for violation code`\\\n",
    "    FROM temp_view \\\n",
    "    WHERE violation_time_bin=\"08:00 - 11:59\" \\\n",
    "    ORDER BY `number of tickets for the time bin for violation code` DESC \\\n",
    "    LIMIT 3').show()\n",
    "\n",
    "print('violation_time_bin=\"12:00 - 15:59\"')\n",
    "spark.sql(\n",
    "    'SELECT `violation_code`,  `number of tickets for the time bin for violation code`\\\n",
    "    FROM temp_view \\\n",
    "    WHERE violation_time_bin=\"12:00 - 15:59\" \\\n",
    "    ORDER BY `number of tickets for the time bin for violation code` DESC \\\n",
    "    LIMIT 3').show()\n",
    "\n",
    "print('violation_time_bin=\"16:00 - 19:59\"')\n",
    "spark.sql(\n",
    "    'SELECT `violation_code`,  `number of tickets for the time bin for violation code`\\\n",
    "    FROM temp_view \\\n",
    "    WHERE violation_time_bin=\"16:00 - 19:59\" \\\n",
    "    ORDER BY `number of tickets for the time bin for violation code` DESC \\\n",
    "    LIMIT 3').show()\n",
    "\n",
    "print('violation_time_bin=\"20:00 - 23:59\"')\n",
    "spark.sql(\n",
    "    'SELECT `violation_code`,  `number of tickets for the time bin for violation code`\\\n",
    "    FROM temp_view \\\n",
    "    WHERE violation_time_bin=\"20:00 - 23:59\" \\\n",
    "    ORDER BY `number of tickets for the time bin for violation code` DESC \\\n",
    "    LIMIT 3').show()"
   ]
  },
  {
   "cell_type": "code",
   "execution_count": 38,
   "metadata": {},
   "outputs": [
    {
     "name": "stdout",
     "output_type": "stream",
     "text": [
      "violation_code=38\n",
      "+------------------+-----------------------------------------------------+\n",
      "|violation_time_bin|number of tickets for the time bin for violation code|\n",
      "+------------------+-----------------------------------------------------+\n",
      "|     12:00 - 15:59|                                               356354|\n",
      "+------------------+-----------------------------------------------------+\n",
      "\n",
      "violation_code=21\n",
      "+------------------+-----------------------------------------------------+\n",
      "|violation_time_bin|number of tickets for the time bin for violation code|\n",
      "+------------------+-----------------------------------------------------+\n",
      "|     08:00 - 11:59|                                              1182676|\n",
      "+------------------+-----------------------------------------------------+\n",
      "\n",
      "violation_code=36\n",
      "+------------------+-----------------------------------------------------+\n",
      "|violation_time_bin|number of tickets for the time bin for violation code|\n",
      "+------------------+-----------------------------------------------------+\n",
      "|     08:00 - 11:59|                                               751422|\n",
      "+------------------+-----------------------------------------------------+\n",
      "\n"
     ]
    }
   ],
   "source": [
    "# Q5 Part 6:\n",
    "print('violation_code=38')\n",
    "spark.sql(\n",
    "    'SELECT `violation_time_bin`,  `number of tickets for the time bin for violation code`\\\n",
    "    FROM temp_view \\\n",
    "    WHERE violation_code=38 \\\n",
    "    ORDER BY `number of tickets for the time bin for violation code` DESC \\\n",
    "    LIMIT 1').show()\n",
    "\n",
    "print('violation_code=21')\n",
    "spark.sql(\n",
    "    'SELECT `violation_time_bin`,  `number of tickets for the time bin for violation code`\\\n",
    "    FROM temp_view \\\n",
    "    WHERE violation_code=21 \\\n",
    "    ORDER BY `number of tickets for the time bin for violation code` DESC \\\n",
    "    LIMIT 1').show()\n",
    "\n",
    "print('violation_code=36')\n",
    "spark.sql(\n",
    "    'SELECT `violation_time_bin`,  `number of tickets for the time bin for violation code`\\\n",
    "    FROM temp_view \\\n",
    "    WHERE violation_code=36 \\\n",
    "    ORDER BY `number of tickets for the time bin for violation code` DESC \\\n",
    "    LIMIT 1').show()"
   ]
  },
  {
   "cell_type": "markdown",
   "metadata": {},
   "source": [
    "**Important Points and Observations:**\n",
    "\n",
    "**We have cleaned the data for violation_time column with clean data in violation_time_new_formatted column**, however, other columns may still contain error values (including 'null', etc.)\n",
    "Python would fail to recognize the strings having values as \"NULL\" or \"NA\". This would be considered as non-NA value which is being considered fine for this analysis.\n",
    "\n",
    "If needed, we can clean those values in following ways:\n",
    "* Deleting the rows that contains string \"NULL\", \"NA\" or similar in any of the columns (using filter/where)\n",
    "* Imputing the rows that contains string \"NULL\", \"NA\" or similar in any of the columns (using regexp_replace)\n",
    "\n",
    "---\n",
    "For violation_time_bin=\"00:00 - 03:59\", common violations were:\n",
    "* 21 - Street Cleaning: No parking where parking is not allowed by sign, street marking or traffic control device.\n",
    "* 36 - Exceeding the posted speed limit in or near a designated school zone.\n",
    "* 38 - Failing to show a receipt or tag in the windshield. Drivers get a 5-minute grace period past the expired time on parking meter receipts.\n",
    "\n",
    "For violation_time_bin=\"04:00 - 07:59\", common violations were:\n",
    "* 14 - General No Standing: Standing or parking where standing is not allowed by sign, street marking or; traffic control device.\n",
    "* 21 - Street Cleaning: No parking where parking is not allowed by sign, street marking or traffic control device.\n",
    "* 40 - Stopping, standing or parking closer than 15 feet of a fire hydrant. Between sunrise and sunset, a passenger vehicle may stand alongside a fire hydrant as long as a driver remains behind the wheel and is ready to move the vehicle if required to do so.\n",
    "\n",
    "For violation_time_bin=\"08:00 - 11:59\", common violations were:\n",
    "* 21 - Street Cleaning: No parking where parking is not allowed by sign, street marking or traffic control device.\n",
    "* 36 - Exceeding the posted speed limit in or near a designated school zone.\n",
    "* 38 - Failing to show a receipt or tag in the windshield. Drivers get a 5-minute grace period past the expired time on parking meter receipts.\n",
    "\n",
    "For violation_time_bin=\"12:00 - 15:59\", common violations were:\n",
    "* 36 - Exceeding the posted speed limit in or near a designated school zone.\n",
    "* 38 - Failing to show a receipt or tag in the windshield. Drivers get a 5-minute grace period past the expired time on parking meter receipts.\n",
    "* 37 - Parking in excess of the allowed time \n",
    "\n",
    "For violation_time_bin=\"16:00 - 19:59\", common violations were:\n",
    "* 38 - Failing to show a receipt or tag in the windshield. Drivers get a 5-minute grace period past the expired time on parking meter receipts.\n",
    "* 37 - Parking in excess of the allowed time \n",
    "* 14 - General No Standing: Standing or parking where standing is not allowed by sign, street marking or; traffic control device.\n",
    "\n",
    "For violation_time_bin=\"20:00 - 23:59\", common violations were:\n",
    "* 7  - Vehicles photographed going through a red light at an intersection.\n",
    "* 38 - Failing to show a receipt or tag in the windshield. Drivers get a 5-minute grace period past the expired time on parking meter receipts.\n",
    "* 14 - General No Standing: Standing or parking where standing is not allowed by sign, street marking or; traffic control device.\n",
    "\n",
    "**Based on above observations, our most common 3 codes are 38, 21, 36**\n",
    "\n",
    "For violation code 38, most common time of the day is \"12:00 - 15:59\" i.e. Afternoon\n",
    "\n",
    "For violation code 21, most common time of the day is \"08:00 - 11:59\" i.e. Night\n",
    "\n",
    "For violation code 36, most common time of the day is \"08:00 - 11:59\" i.e. Night"
   ]
  },
  {
   "cell_type": "markdown",
   "metadata": {},
   "source": [
    "---"
   ]
  },
  {
   "cell_type": "markdown",
   "metadata": {},
   "source": [
    "### Question 6:"
   ]
  },
  {
   "cell_type": "code",
   "execution_count": 39,
   "metadata": {},
   "outputs": [],
   "source": [
    "# Aggregation tasks\n",
    "# Q6. Let’s try and find some seasonality in this data:\n",
    "\n",
    "# First, divide the year into a certain number of seasons, and find the frequencies of tickets for each season. (Hint: Use Issue Date to segregate into seasons.)\n",
    "\n",
    "# Then, find the three most common violations for each of these seasons.\n",
    "# (Hint: You can use an approach similar to the one mentioned in the hint for question 4.)\n",
    "\n",
    "\n",
    "# Solution:\n",
    "# 1. Using data available at https://www.nyc.com/visitor_guide/weather_facts.75835/\n",
    "# Winter: December, January, February\n",
    "# Spring: March, April, May\n",
    "# Summer: June, July, August\n",
    "# Fall: September, October, November\n",
    "\n",
    "result = spark.sql(\n",
    "    'SELECT `violation_code`, count(*) as `number of tickets for the season for violation code`, \\\n",
    "    CASE \\\n",
    "    WHEN MONTH(`issue_date`) IN (\"12\",\"1\",\"2\") THEN \"Winter\" \\\n",
    "    WHEN MONTH(`issue_date`) IN (\"3\",\"4\",\"5\") THEN \"Spring\" \\\n",
    "    WHEN MONTH(`issue_date`) IN (\"6\",\"7\",\"8\") THEN \"Summer\" \\\n",
    "    WHEN MONTH(`issue_date`) IN (\"9\",\"10\",\"11\") THEN \"Fall\" \\\n",
    "    END AS `season` \\\n",
    "    FROM df_table_new \\\n",
    "    GROUP BY `season`,`violation_code`')\n",
    "result.count()\n",
    "\n",
    "# Registering the result Dataset as a separate SQL view for further Analysis since there are many rows\n",
    "result.createOrReplaceTempView(\"temp_view\")"
   ]
  },
  {
   "cell_type": "code",
   "execution_count": 40,
   "metadata": {},
   "outputs": [
    {
     "name": "stdout",
     "output_type": "stream",
     "text": [
      "season=\"Winter\"\n",
      "+--------------+---------------------------------------------------+\n",
      "|violation_code|number of tickets for the season for violation code|\n",
      "+--------------+---------------------------------------------------+\n",
      "|            21|                                             362341|\n",
      "|            36|                                             359338|\n",
      "|            38|                                             259723|\n",
      "+--------------+---------------------------------------------------+\n",
      "\n",
      "season=\"Spring\"\n",
      "+--------------+---------------------------------------------------+\n",
      "|violation_code|number of tickets for the season for violation code|\n",
      "+--------------+---------------------------------------------------+\n",
      "|            21|                                             402807|\n",
      "|            36|                                             344834|\n",
      "|            38|                                             271192|\n",
      "+--------------+---------------------------------------------------+\n",
      "\n",
      "season=\"Summer\"\n",
      "+--------------+---------------------------------------------------+\n",
      "|violation_code|number of tickets for the season for violation code|\n",
      "+--------------+---------------------------------------------------+\n",
      "|            21|                                             405961|\n",
      "|            38|                                             247561|\n",
      "|            36|                                             240396|\n",
      "+--------------+---------------------------------------------------+\n",
      "\n",
      "season=\"Fall\"\n",
      "+--------------+---------------------------------------------------+\n",
      "|violation_code|number of tickets for the season for violation code|\n",
      "+--------------+---------------------------------------------------+\n",
      "|            36|                                             456046|\n",
      "|            21|                                             357479|\n",
      "|            38|                                             283828|\n",
      "+--------------+---------------------------------------------------+\n",
      "\n"
     ]
    }
   ],
   "source": [
    "# Q6 Part 2:\n",
    "\n",
    "print('season=\"Winter\"')\n",
    "spark.sql(\n",
    "    'SELECT `violation_code`,  `number of tickets for the season for violation code`\\\n",
    "    FROM temp_view \\\n",
    "    WHERE season=\"Winter\" \\\n",
    "    ORDER BY `number of tickets for the season for violation code` DESC \\\n",
    "    LIMIT 3').show()\n",
    "\n",
    "print('season=\"Spring\"')\n",
    "spark.sql(\n",
    "    'SELECT `violation_code`,  `number of tickets for the season for violation code`\\\n",
    "    FROM temp_view \\\n",
    "    WHERE season=\"Spring\" \\\n",
    "    ORDER BY `number of tickets for the season for violation code` DESC \\\n",
    "    LIMIT 3').show()\n",
    "\n",
    "print('season=\"Summer\"')\n",
    "spark.sql(\n",
    "    'SELECT `violation_code`,  `number of tickets for the season for violation code`\\\n",
    "    FROM temp_view \\\n",
    "    WHERE season=\"Summer\" \\\n",
    "    ORDER BY `number of tickets for the season for violation code` DESC \\\n",
    "    LIMIT 3').show()\n",
    "\n",
    "print('season=\"Fall\"')\n",
    "spark.sql(\n",
    "    'SELECT `violation_code`,  `number of tickets for the season for violation code`\\\n",
    "    FROM temp_view \\\n",
    "    WHERE season=\"Fall\" \\\n",
    "    ORDER BY `number of tickets for the season for violation code` DESC \\\n",
    "    LIMIT 3').show()"
   ]
  },
  {
   "cell_type": "markdown",
   "metadata": {},
   "source": [
    "**Important Observations:**\n",
    "\n",
    "\n",
    "* We have divided the year based on the imformation from external reference (https://www.nyc.com/visitor_guide/weather_facts.75835/):\n",
    "    * Winter: December, January, February\n",
    "    * Spring: March, April, May\n",
    "    * Summer: June, July, August\n",
    "    * Fall: September, October, November\n",
    "\n",
    "\n",
    "* For season=\"Winter\", the following violation codes were most frequent:\n",
    "    * 21 - Street Cleaning: No parking where parking is not allowed by sign, street marking or traffic control device.\n",
    "    * 36 - Exceeding the posted speed limit in or near a designated school zone.\n",
    "    * 38 - Failing to show a receipt or tag in the windshield. Drivers get a 5-minute grace period past the expired time on parking meter receipts.\n",
    "\n",
    "\n",
    "* For season=\"Spring\", the following violation codes were most frequent:\n",
    "    * 21 - Street Cleaning: No parking where parking is not allowed by sign, street marking or traffic control device.\n",
    "    * 36 - Exceeding the posted speed limit in or near a designated school zone.\n",
    "    * 38 - Failing to show a receipt or tag in the windshield. Drivers get a 5-minute grace period past the expired time on parking meter receipts.\n",
    "\n",
    "\n",
    "* For season=\"Summer\", the following violation codes were most frequent:\n",
    "    * 21 - Street Cleaning: No parking where parking is not allowed by sign, street marking or traffic control device.\n",
    "    * 38 - Failing to show a receipt or tag in the windshield. Drivers get a 5-minute grace period past the expired time on parking meter receipts.\n",
    "    * 36 - Exceeding the posted speed limit in or near a designated school zone.\n",
    "\n",
    "\n",
    "* For season=\"Fall\", the following violation codes were most frequent:\n",
    "    * 36 - Exceeding the posted speed limit in or near a designated school zone.\n",
    "    * 21 - Street Cleaning: No parking where parking is not allowed by sign, street marking or traffic control device.\n",
    "    * 38 - Failing to show a receipt or tag in the windshield. Drivers get a 5-minute grace period past the expired time on parking meter receipts.\n",
    "\n",
    "\n",
    "* For all the seasons, the top 3 violation codes are same with some change in order over seasons."
   ]
  },
  {
   "cell_type": "markdown",
   "metadata": {},
   "source": [
    "---"
   ]
  },
  {
   "cell_type": "markdown",
   "metadata": {},
   "source": [
    "### Question 7:"
   ]
  },
  {
   "cell_type": "code",
   "execution_count": 41,
   "metadata": {},
   "outputs": [
    {
     "name": "stdout",
     "output_type": "stream",
     "text": [
      "+--------------+----------------------------------------+\n",
      "|violation_code|number of tickets for the violation code|\n",
      "+--------------+----------------------------------------+\n",
      "|            21|                                 1528588|\n",
      "|            36|                                 1400614|\n",
      "|            38|                                 1062304|\n",
      "+--------------+----------------------------------------+\n",
      "\n",
      "Revenue generation from violation code 21 (count:1528588 , avg. fine: $55) = $84072340\n",
      "Revenue generation from violation code 36 (count:1400614 , avg. fine: $50) = $70030700\n",
      "Revenue generation from violation code 38 (count:1062304 , avg. fine: $50) = $53115200\n"
     ]
    }
   ],
   "source": [
    "# Aggregation tasks\n",
    "# Q7. The fines collected from all the instances of parking violation constitute a source of revenue for the NYC Police Department. Let’s take an example of estimating this for the three most commonly occurring codes:\n",
    "# Find the total occurrences of the three most common violation codes.\n",
    "# Then, visit the website: http://www1.nyc.gov/site/finance/vehicles/services-violation-codes.page\n",
    "# It lists the fines associated with different violation codes. They’re divided into two categories: one for the highest-density locations in the city and the other for the rest of the city. For the sake of simplicity, take the average of the two.\n",
    "# Using this information, find the total amount collected for the three violation codes with the maximum tickets. State the code that has the highest total collection.\n",
    "# What can you intuitively infer from these findings?\n",
    "\n",
    "# Solution:\n",
    "# 1. Finding total occurrences of the three most common violation codes using GROUP BY\n",
    "# 2. Average fine for top 3 occuring violation codes:\n",
    "#    violation code 21 => (45 + 65)/2 => 55\n",
    "#    violation code 36 => (50 + 50)/2 => 50\n",
    "#    violation code 38 => (65 + 35)/2 => 50\n",
    "# As per the referred website: The table below defines the parking violation codes in New York City and lists the fines. \n",
    "# Each fine amount includes a $15 New York State Criminal Justice surcharge.\n",
    "\n",
    "# 1:\n",
    "result = spark.sql(\n",
    "    'SELECT `violation_code`, count(*) as `number of tickets for the violation code` \\\n",
    "    FROM df_table_new \\\n",
    "    GROUP BY `violation_code` \\\n",
    "    ORDER BY `number of tickets for the violation code` DESC \\\n",
    "    LIMIT 3')\n",
    "result.show()\n",
    "\n",
    "# 2:\n",
    "print(f'Revenue generation from violation code 21 (count:1528588 , avg. fine: $55) = ${1528588*55}')\n",
    "print(f'Revenue generation from violation code 36 (count:1400614 , avg. fine: $50) = ${1400614*50}')\n",
    "print(f'Revenue generation from violation code 38 (count:1062304 , avg. fine: $50) = ${1062304*50}')"
   ]
  },
  {
   "cell_type": "markdown",
   "metadata": {},
   "source": [
    "**Important Observations:**\n",
    "\n",
    "\n",
    "* Revenue generation from violation code 21 (count:1528588 , avg. fine: \\$55) = **\\$84072340**\n",
    "    * Violation code 21 means: Street Cleaning: No parking where parking is not allowed by sign, street marking or traffic control device.\n",
    "    \n",
    "    \n",
    "* Revenue generation from violation code 36 (count:1400614 , avg. fine: \\$50) = **\\$70030700**\n",
    "    * Violation code 36 mean: Exceeding the posted speed limit in or near a designated school zone.\n",
    "    \n",
    "    \n",
    "* Revenue generation from violation code 38 (count:1062304 , avg. fine: \\$50) = **\\$53115200**\n",
    "    * Violation code 38 means: Failing to show a receipt or tag in the windshield. Drivers get a 5-minute grace period past the expired time on parking meter receipts.\n",
    "    \n",
    "    \n",
    "* Violation Code 21 has the highest total collection of \\$84072340\n",
    "\n",
    "\n",
    "* We can intuitively infer the following from these findings:\n",
    "    * Most violations are due to **parking related issues**.\n",
    "    * There is certainly **parking related problem in NYC**.\n",
    "    * Many people are **violating the posted speed limit criteria**.\n"
   ]
  },
  {
   "cell_type": "code",
   "execution_count": 42,
   "metadata": {},
   "outputs": [],
   "source": [
    "# Closing the Spark session\n",
    "spark.stop()"
   ]
  }
 ],
 "metadata": {
  "kernelspec": {
   "display_name": "PySpark",
   "language": "python",
   "name": "pyspark"
  },
  "language_info": {
   "codemirror_mode": {
    "name": "ipython",
    "version": 3
   },
   "file_extension": ".py",
   "mimetype": "text/x-python",
   "name": "python",
   "nbconvert_exporter": "python",
   "pygments_lexer": "ipython3",
   "version": "3.6.5"
  }
 },
 "nbformat": 4,
 "nbformat_minor": 2
}
